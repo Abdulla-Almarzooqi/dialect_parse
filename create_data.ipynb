{
 "cells": [
  {
   "cell_type": "code",
   "execution_count": 3,
   "id": "48e73373",
   "metadata": {},
   "outputs": [
    {
     "name": "stdout",
     "output_type": "stream",
     "text": [
      "Defaulting to user installation because normal site-packages is not writeable\n",
      "Collecting conllu\n",
      "  Using cached conllu-4.5.3-py2.py3-none-any.whl (16 kB)\n",
      "Installing collected packages: conllu\n",
      "  Attempting uninstall: conllu\n",
      "    Found existing installation: conllu 4.5.3\n",
      "    Uninstalling conllu-4.5.3:\n",
      "      Successfully uninstalled conllu-4.5.3\n",
      "Successfully installed conllu-4.5.3\n"
     ]
    }
   ],
   "source": [
    "!python3 -m pip install --force-reinstall conllu"
   ]
  },
  {
   "cell_type": "code",
   "execution_count": 1,
   "id": "b3c7407d",
   "metadata": {
    "scrolled": true
   },
   "outputs": [
    {
     "name": "stderr",
     "output_type": "stream",
     "text": [
      "/home/afz225/.conda/envs/fairseq/lib/python3.9/site-packages/tqdm/auto.py:21: TqdmWarning: IProgress not found. Please update jupyter and ipywidgets. See https://ipywidgets.readthedocs.io/en/stable/user_install.html\n",
      "  from .autonotebook import tqdm as notebook_tqdm\n"
     ]
    }
   ],
   "source": [
    "import pandas as pd\n",
    "from conllu import parse\n",
    "from torch.utils.data import Dataset, DataLoader"
   ]
  },
  {
   "cell_type": "code",
   "execution_count": 2,
   "id": "fb3f000a",
   "metadata": {},
   "outputs": [],
   "source": [
    "msa_file=\"../conllu_analysis/data/PATB/catib.train.v2.11062020.conllu\"\n",
    "da_file=\"../conllu_analysis/data/dialect_data/Levantine/lev_train.conllx\""
   ]
  },
  {
   "cell_type": "code",
   "execution_count": 3,
   "id": "3db4f428",
   "metadata": {},
   "outputs": [],
   "source": [
    "msa_fp = open(msa_file, 'r')\n",
    "da_fp = open(da_file, 'r')\n",
    "msa_data = \"\".join(msa_fp.readlines())\n",
    "da_data = \"\".join(da_fp.readlines())\n",
    "da_fp.close()\n",
    "msa_fp.close()"
   ]
  },
  {
   "cell_type": "code",
   "execution_count": 4,
   "id": "6f2c0959",
   "metadata": {
    "scrolled": true
   },
   "outputs": [],
   "source": [
    "msa_sents = parse(msa_data)\n",
    "da_sents = parse(da_data)"
   ]
  },
  {
   "cell_type": "code",
   "execution_count": 5,
   "id": "36988fa7",
   "metadata": {},
   "outputs": [],
   "source": [
    "table_headers = ['token_id', 'sentence', 'UPOS-deprel']\n",
    "msa_list = []\n",
    "da_list = []"
   ]
  },
  {
   "cell_type": "code",
   "execution_count": 6,
   "id": "f8da1165",
   "metadata": {},
   "outputs": [],
   "source": [
    "for sent in msa_sents:\n",
    "    sent_string = \" \".join([tok['form'] for tok in sent])\n",
    "    for tok in sent:\n",
    "        msa_list.append([tok['id'], sent_string, tok['upos']+'+'+tok['deprel']])"
   ]
  },
  {
   "cell_type": "code",
   "execution_count": 7,
   "id": "f1840378",
   "metadata": {},
   "outputs": [],
   "source": [
    "for sent in da_sents:\n",
    "    sent_string = \" \".join([tok['form'] for tok in sent])\n",
    "    for tok in sent:\n",
    "        da_list.append([tok['id'], sent_string, tok['upos']+'+'+tok['deprel']])"
   ]
  },
  {
   "cell_type": "code",
   "execution_count": 8,
   "id": "ae2b3dfc",
   "metadata": {},
   "outputs": [],
   "source": [
    "msa_df = pd.DataFrame(msa_list, columns=table_headers)"
   ]
  },
  {
   "cell_type": "code",
   "execution_count": 9,
   "id": "902d11a6",
   "metadata": {},
   "outputs": [],
   "source": [
    "da_df = pd.DataFrame(da_list, columns=table_headers)"
   ]
  },
  {
   "cell_type": "code",
   "execution_count": 10,
   "id": "fcb3e893",
   "metadata": {},
   "outputs": [],
   "source": [
    "def random_pairing(df1, df2):\n",
    "    paired_dfs = pd.DataFrame()\n",
    "    for gram_cat in df1['UPOS-deprel'].unique():\n",
    "        num_elems = df1['UPOS-deprel'].value_counts().loc[gram_cat]\n",
    "        matches = df2[df2['UPOS-deprel'] == gram_cat]\n",
    "        if len(matches) != 0:\n",
    "            pairings = matches.sample(n=num_elems, replace=True).sample(frac=1)\n",
    "            paired_df = pd.concat([df1[df1['UPOS-deprel'] == gram_cat].reset_index(drop=True).drop(['UPOS-deprel'], axis=1), pairings.reset_index(drop=True).drop(['UPOS-deprel'], axis=1)], axis=1)\n",
    "            paired_dfs = pd.concat([paired_dfs, paired_df], axis=0)\n",
    "        return paired_dfs\n",
    "        "
   ]
  },
  {
   "cell_type": "code",
   "execution_count": 16,
   "id": "c29deff7",
   "metadata": {},
   "outputs": [],
   "source": [
    "random_pairing(msa_df, da_df).to_csv(\"msa_aligned_lev_paired_tokens.tsv\", header=None, index=None,sep='\\t')"
   ]
  },
  {
   "cell_type": "code",
   "execution_count": 13,
   "id": "b2edbc77",
   "metadata": {},
   "outputs": [],
   "source": [
    "df = pd.read_csv(\"lev_aligned_msa_paired_tokens.tsv\", header=None, sep='\\t')"
   ]
  },
  {
   "cell_type": "code",
   "execution_count": 14,
   "id": "f104cad4",
   "metadata": {},
   "outputs": [],
   "source": [
    "df.columns = ['reference_token_id', 'reference_sent', 'aligning_token_id', 'aligning_sent']"
   ]
  },
  {
   "cell_type": "code",
   "execution_count": 15,
   "id": "7dcff869",
   "metadata": {},
   "outputs": [
    {
     "data": {
      "text/html": [
       "<div>\n",
       "<style scoped>\n",
       "    .dataframe tbody tr th:only-of-type {\n",
       "        vertical-align: middle;\n",
       "    }\n",
       "\n",
       "    .dataframe tbody tr th {\n",
       "        vertical-align: top;\n",
       "    }\n",
       "\n",
       "    .dataframe thead th {\n",
       "        text-align: right;\n",
       "    }\n",
       "</style>\n",
       "<table border=\"1\" class=\"dataframe\">\n",
       "  <thead>\n",
       "    <tr style=\"text-align: right;\">\n",
       "      <th></th>\n",
       "      <th>reference_token_id</th>\n",
       "      <th>reference_sent</th>\n",
       "      <th>aligning_token_id</th>\n",
       "      <th>aligning_sent</th>\n",
       "    </tr>\n",
       "  </thead>\n",
       "  <tbody>\n",
       "    <tr>\n",
       "      <th>0</th>\n",
       "      <td>1</td>\n",
       "      <td>ألو</td>\n",
       "      <td>2</td>\n",
       "      <td>ذ الرجال : الجزيرة ( مصر ) , الاتحاد السكندري ...</td>\n",
       "    </tr>\n",
       "    <tr>\n",
       "      <th>1</th>\n",
       "      <td>1</td>\n",
       "      <td>ألو</td>\n",
       "      <td>1</td>\n",
       "      <td>ثانيا : إجراء تحقيقات موسعة ب+ النسبة إلى أسبا...</td>\n",
       "    </tr>\n",
       "    <tr>\n",
       "      <th>2</th>\n",
       "      <td>1</td>\n",
       "      <td>ألو</td>\n",
       "      <td>17</td>\n",
       "      <td>و+ يمكن تلقيم النصوص على شبكة الإنترنت و+ قراء...</td>\n",
       "    </tr>\n",
       "    <tr>\n",
       "      <th>3</th>\n",
       "      <td>1</td>\n",
       "      <td>أيوه</td>\n",
       "      <td>93</td>\n",
       "      <td>وزعت شعبة العلاقات العامة في قوى الأمن الداخلي...</td>\n",
       "    </tr>\n",
       "    <tr>\n",
       "      <th>4</th>\n",
       "      <td>1</td>\n",
       "      <td>إيه ريم</td>\n",
       "      <td>2</td>\n",
       "      <td>ربما 8 \" !</td>\n",
       "    </tr>\n",
       "    <tr>\n",
       "      <th>...</th>\n",
       "      <td>...</td>\n",
       "      <td>...</td>\n",
       "      <td>...</td>\n",
       "      <td>...</td>\n",
       "    </tr>\n",
       "    <tr>\n",
       "      <th>2515</th>\n",
       "      <td>1</td>\n",
       "      <td>بس</td>\n",
       "      <td>18</td>\n",
       "      <td>شارك من لبنان الكاردينال موسى داوود ( رئيس مجم...</td>\n",
       "    </tr>\n",
       "    <tr>\n",
       "      <th>2516</th>\n",
       "      <td>3</td>\n",
       "      <td>على ال اللي عند ي إل ها عشر دقايق</td>\n",
       "      <td>5</td>\n",
       "      <td>أما التيار الآخر ف+ واقعي و+ يقود +ه حلفاء سور...</td>\n",
       "    </tr>\n",
       "    <tr>\n",
       "      <th>2517</th>\n",
       "      <td>5</td>\n",
       "      <td>أنا لأ هاي الجامعة قريبة ب أبو نصير أقرب في ش ...</td>\n",
       "      <td>3</td>\n",
       "      <td>2 - إعداد التشريعات اللازمة ل+ طريقة إدارة هذه...</td>\n",
       "    </tr>\n",
       "    <tr>\n",
       "      <th>2518</th>\n",
       "      <td>5</td>\n",
       "      <td>آه إنتوا و الجامعة قريبين</td>\n",
       "      <td>1</td>\n",
       "      <td>الطبعة رقم : 1</td>\n",
       "    </tr>\n",
       "    <tr>\n",
       "      <th>2519</th>\n",
       "      <td>3</td>\n",
       "      <td>آه بس هيك</td>\n",
       "      <td>2</td>\n",
       "      <td>و+ معلوم أن الجنرال ( طوني ) زيني يصل اليوم إل...</td>\n",
       "    </tr>\n",
       "  </tbody>\n",
       "</table>\n",
       "<p>2520 rows × 4 columns</p>\n",
       "</div>"
      ],
      "text/plain": [
       "      reference_token_id                                     reference_sent  \\\n",
       "0                      1                                                ألو   \n",
       "1                      1                                                ألو   \n",
       "2                      1                                                ألو   \n",
       "3                      1                                               أيوه   \n",
       "4                      1                                            إيه ريم   \n",
       "...                  ...                                                ...   \n",
       "2515                   1                                                 بس   \n",
       "2516                   3                  على ال اللي عند ي إل ها عشر دقايق   \n",
       "2517                   5  أنا لأ هاي الجامعة قريبة ب أبو نصير أقرب في ش ...   \n",
       "2518                   5                          آه إنتوا و الجامعة قريبين   \n",
       "2519                   3                                          آه بس هيك   \n",
       "\n",
       "      aligning_token_id                                      aligning_sent  \n",
       "0                     2  ذ الرجال : الجزيرة ( مصر ) , الاتحاد السكندري ...  \n",
       "1                     1  ثانيا : إجراء تحقيقات موسعة ب+ النسبة إلى أسبا...  \n",
       "2                    17  و+ يمكن تلقيم النصوص على شبكة الإنترنت و+ قراء...  \n",
       "3                    93  وزعت شعبة العلاقات العامة في قوى الأمن الداخلي...  \n",
       "4                     2                                         ربما 8 \" !  \n",
       "...                 ...                                                ...  \n",
       "2515                 18  شارك من لبنان الكاردينال موسى داوود ( رئيس مجم...  \n",
       "2516                  5  أما التيار الآخر ف+ واقعي و+ يقود +ه حلفاء سور...  \n",
       "2517                  3  2 - إعداد التشريعات اللازمة ل+ طريقة إدارة هذه...  \n",
       "2518                  1                                     الطبعة رقم : 1  \n",
       "2519                  2  و+ معلوم أن الجنرال ( طوني ) زيني يصل اليوم إل...  \n",
       "\n",
       "[2520 rows x 4 columns]"
      ]
     },
     "execution_count": 15,
     "metadata": {},
     "output_type": "execute_result"
    }
   ],
   "source": [
    "df"
   ]
  },
  {
   "cell_type": "code",
   "execution_count": null,
   "id": "4638b8d2",
   "metadata": {},
   "outputs": [],
   "source": []
  }
 ],
 "metadata": {
  "kernelspec": {
   "display_name": "fairseq",
   "language": "python",
   "name": "fairseq"
  },
  "language_info": {
   "codemirror_mode": {
    "name": "ipython",
    "version": 3
   },
   "file_extension": ".py",
   "mimetype": "text/x-python",
   "name": "python",
   "nbconvert_exporter": "python",
   "pygments_lexer": "ipython3",
   "version": "3.9.18"
  }
 },
 "nbformat": 4,
 "nbformat_minor": 5
}
